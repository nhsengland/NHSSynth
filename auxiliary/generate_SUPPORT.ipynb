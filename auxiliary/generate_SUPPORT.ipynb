{
 "cells": [
  {
   "cell_type": "code",
   "execution_count": null,
   "metadata": {},
   "outputs": [],
   "source": [
    "from datetime import datetime\n",
    "\n",
    "import numpy as np\n",
    "import pandas as pd\n",
    "from pycox.datasets import support"
   ]
  },
  {
   "attachments": {},
   "cell_type": "markdown",
   "metadata": {},
   "source": [
    "We load the Study to Understand Prognoses Preferences Outcomes and Risks of Treatment (SUPPORT) dataset via the `pycox` package. More info on this dataset can be found [here](https://doi.org/10.1186/s12874-018-0482-1)."
   ]
  },
  {
   "cell_type": "code",
   "execution_count": null,
   "metadata": {},
   "outputs": [],
   "source": [
    "df = support.read_df()"
   ]
  },
  {
   "attachments": {},
   "cell_type": "markdown",
   "metadata": {},
   "source": [
    "We transform the age column to a date, such that this dataset contains categoricals, dates, floats and integers, to cover as much of our codebase as possible whilst remaining interesting."
   ]
  },
  {
   "cell_type": "code",
   "execution_count": null,
   "metadata": {},
   "outputs": [],
   "source": [
    "ref_date = datetime(2023, 1, 1)\n",
    "df[\"x0\"] = ref_date - pd.to_timedelta(df[\"x0\"] * 365.2425, unit=\"D\")\n",
    "df = df.rename(columns={\"x0\": \"dob\"})"
   ]
  },
  {
   "attachments": {},
   "cell_type": "markdown",
   "metadata": {},
   "source": [
    "We also want to create a string column from one of the categoricals. We arbitrarily choose `x3`."
   ]
  },
  {
   "cell_type": "code",
   "execution_count": null,
   "metadata": {},
   "outputs": [],
   "source": [
    "_map = {x: chr(65 + int(x)) for x in df[\"x3\"].unique().tolist()}\n",
    "df[\"x3\"] = df[\"x3\"].map(_map)"
   ]
  },
  {
   "cell_type": "markdown",
   "metadata": {},
   "source": [
    "We also want to create a new column consisting of a multi-modal Gaussian."
   ]
  },
  {
   "cell_type": "code",
   "execution_count": null,
   "metadata": {},
   "outputs": [],
   "source": [
    "df"
   ]
  },
  {
   "cell_type": "code",
   "execution_count": null,
   "metadata": {},
   "outputs": [],
   "source": [
    "# Create a column sampled from a multi-modal gaussian distribution with means 1.0, 50.0 and 100.0 and stds 1.0, 2.0 and 3.0\n",
    "means = [1.0, 50.0, 100.0]\n",
    "stds = [1.0, 2.0, 3.0]\n",
    "df[\"x14\"] = np.concatenate([np.random.normal(means[i], stds[i], size=1) for i in np.random.randint(0, 3, df.shape[0])])"
   ]
  },
  {
   "attachments": {},
   "cell_type": "markdown",
   "metadata": {},
   "source": [
    "Next we randomly introduce missingness into the data, setting the seed such that other users can recreate the dataset we provide if desired."
   ]
  },
  {
   "cell_type": "code",
   "execution_count": null,
   "metadata": {},
   "outputs": [],
   "source": [
    "np.random.seed(123)\n",
    "mask = np.random.choice([True, False], size=df.shape, p=[0.1, 0.9])\n",
    "mask[:, -1] = False  # exclude the `event` column from missingness\n",
    "df[mask] = np.nan"
   ]
  },
  {
   "attachments": {},
   "cell_type": "markdown",
   "metadata": {},
   "source": [
    "Next we inspect the data:"
   ]
  },
  {
   "cell_type": "code",
   "execution_count": null,
   "metadata": {},
   "outputs": [],
   "source": [
    "df.info()\n",
    "df.head()"
   ]
  },
  {
   "attachments": {},
   "cell_type": "markdown",
   "metadata": {},
   "source": [
    "Finally, we write the data to a csv file."
   ]
  },
  {
   "cell_type": "code",
   "execution_count": null,
   "metadata": {},
   "outputs": [],
   "source": [
    "df.to_csv(\"../data/support.csv\", index=False)"
   ]
  },
  {
   "cell_type": "code",
   "execution_count": null,
   "metadata": {},
   "outputs": [],
   "source": []
  }
 ],
 "metadata": {
  "kernelspec": {
   "display_name": "test",
   "language": "python",
   "name": "python3"
  },
  "language_info": {
   "codemirror_mode": {
    "name": "ipython",
    "version": 3
   },
   "file_extension": ".py",
   "mimetype": "text/x-python",
   "name": "python",
   "nbconvert_exporter": "python",
   "pygments_lexer": "ipython3",
   "version": "3.11.5"
  }
 },
 "nbformat": 4,
 "nbformat_minor": 2
}
